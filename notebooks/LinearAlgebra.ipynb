{
 "cells": [
  {
   "cell_type": "code",
   "execution_count": 1,
   "id": "6aa7081e-b46c-48bb-9335-d455d7bbdadc",
   "metadata": {},
   "outputs": [],
   "source": [
    "import numpy as np"
   ]
  },
  {
   "cell_type": "code",
   "execution_count": 2,
   "id": "2605612d-309d-48e4-bb47-9c2c773a40b6",
   "metadata": {},
   "outputs": [],
   "source": [
    "u = np.array([2,3,4,5,6]) #vector"
   ]
  },
  {
   "cell_type": "code",
   "execution_count": 3,
   "id": "cee581f8-084b-4df0-aab8-dfaa622130a6",
   "metadata": {},
   "outputs": [
    {
     "data": {
      "text/plain": [
       "array([ 4,  6,  8, 10, 12])"
      ]
     },
     "execution_count": 3,
     "metadata": {},
     "output_type": "execute_result"
    }
   ],
   "source": [
    "2 * u"
   ]
  },
  {
   "cell_type": "code",
   "execution_count": 49,
   "id": "5b463aa0-2792-4c5a-861a-6837f47150b8",
   "metadata": {},
   "outputs": [],
   "source": [
    "v = np.array([6,5,4,3,2])"
   ]
  },
  {
   "cell_type": "code",
   "execution_count": 50,
   "id": "78300494-671a-43b0-87d7-ef4277f96ad5",
   "metadata": {},
   "outputs": [
    {
     "data": {
      "text/plain": [
       "(5,)"
      ]
     },
     "execution_count": 50,
     "metadata": {},
     "output_type": "execute_result"
    }
   ],
   "source": [
    "v.shape"
   ]
  },
  {
   "cell_type": "code",
   "execution_count": 51,
   "id": "fc2551c1-ff16-46ae-b31a-e505ae96419b",
   "metadata": {},
   "outputs": [
    {
     "data": {
      "text/plain": [
       "array([8, 8, 8, 8, 8])"
      ]
     },
     "execution_count": 51,
     "metadata": {},
     "output_type": "execute_result"
    }
   ],
   "source": [
    "u + v "
   ]
  },
  {
   "cell_type": "code",
   "execution_count": 52,
   "id": "7b9b3668-143b-4fd1-a9c0-cb287d192258",
   "metadata": {},
   "outputs": [
    {
     "data": {
      "text/plain": [
       "array([-4, -2,  0,  2,  4])"
      ]
     },
     "execution_count": 52,
     "metadata": {},
     "output_type": "execute_result"
    }
   ],
   "source": [
    "u - v"
   ]
  },
  {
   "cell_type": "code",
   "execution_count": 53,
   "id": "49bbafd3-efb3-40b3-9c6a-878fde9bd3f7",
   "metadata": {},
   "outputs": [
    {
     "data": {
      "text/plain": [
       "array([12, 15, 16, 15, 12])"
      ]
     },
     "execution_count": 53,
     "metadata": {},
     "output_type": "execute_result"
    }
   ],
   "source": [
    "u * v"
   ]
  },
  {
   "cell_type": "code",
   "execution_count": 54,
   "id": "b1dc1b50-857b-44f8-b3b9-8dfaca6fba32",
   "metadata": {},
   "outputs": [
    {
     "data": {
      "text/plain": [
       "np.int64(70)"
      ]
     },
     "execution_count": 54,
     "metadata": {},
     "output_type": "execute_result"
    }
   ],
   "source": [
    "u @ v #dot product"
   ]
  },
  {
   "cell_type": "code",
   "execution_count": 55,
   "id": "562577ca-dc7f-4b26-9058-ece8160d7349",
   "metadata": {},
   "outputs": [
    {
     "data": {
      "text/plain": [
       "np.int64(70)"
      ]
     },
     "execution_count": 55,
     "metadata": {},
     "output_type": "execute_result"
    }
   ],
   "source": [
    "u.dot(v)"
   ]
  },
  {
   "cell_type": "code",
   "execution_count": 56,
   "id": "73445e10-4c62-4272-ac95-aca4fd140897",
   "metadata": {},
   "outputs": [],
   "source": [
    "def dotproduct(u , v):\n",
    "    assert u.shape[0] == v.shape[0]\n",
    "    res = 0 \n",
    "    for i in range(len(u)):\n",
    "        res = res + u[i] * v[i]\n",
    "    return res"
   ]
  },
  {
   "cell_type": "code",
   "execution_count": 57,
   "id": "fa8928f5-c95a-456f-84ba-b5b78260b79e",
   "metadata": {},
   "outputs": [
    {
     "data": {
      "text/plain": [
       "np.int64(70)"
      ]
     },
     "execution_count": 57,
     "metadata": {},
     "output_type": "execute_result"
    }
   ],
   "source": [
    "dotproduct(u , v)"
   ]
  },
  {
   "cell_type": "code",
   "execution_count": 12,
   "id": "55bbafc5-b16a-4bef-8120-9d30f557a18c",
   "metadata": {},
   "outputs": [],
   "source": [
    "U = np.array(\n",
    "    [[2,3,4],\n",
    "    [5,6,7],\n",
    "    [8,9,1]]\n",
    ")"
   ]
  },
  {
   "cell_type": "code",
   "execution_count": 13,
   "id": "c76f6242-28d2-42e8-b8f8-3ddfc634a13c",
   "metadata": {},
   "outputs": [
    {
     "data": {
      "text/plain": [
       "array([[2, 3, 4],\n",
       "       [5, 6, 7],\n",
       "       [8, 9, 1]])"
      ]
     },
     "execution_count": 13,
     "metadata": {},
     "output_type": "execute_result"
    }
   ],
   "source": [
    "U"
   ]
  },
  {
   "cell_type": "code",
   "execution_count": 25,
   "id": "a437544a-a9f5-4a8f-912e-4bef75735c96",
   "metadata": {},
   "outputs": [
    {
     "data": {
      "text/plain": [
       "(3, 3)"
      ]
     },
     "execution_count": 25,
     "metadata": {},
     "output_type": "execute_result"
    }
   ],
   "source": [
    "U.shape"
   ]
  },
  {
   "cell_type": "code",
   "execution_count": 58,
   "id": "11fbc1b9-a1b1-47a7-8ab5-e301131b4bb0",
   "metadata": {},
   "outputs": [],
   "source": [
    "x = np.array([3,4,5])"
   ]
  },
  {
   "cell_type": "code",
   "execution_count": 59,
   "id": "2b304b17-613e-4adb-bea7-c7350bcde5dd",
   "metadata": {},
   "outputs": [],
   "source": [
    "V = np.array(\n",
    "    [[8,9 ,1 ],\n",
    "    [5,6,7],\n",
    "    [2,3,4]]\n",
    ")"
   ]
  },
  {
   "cell_type": "code",
   "execution_count": 60,
   "id": "06a481dc-7286-4a31-accc-b6a889327aac",
   "metadata": {},
   "outputs": [
    {
     "data": {
      "text/plain": [
       "array([[8, 9, 1],\n",
       "       [5, 6, 7],\n",
       "       [2, 3, 4]])"
      ]
     },
     "execution_count": 60,
     "metadata": {},
     "output_type": "execute_result"
    }
   ],
   "source": [
    "V"
   ]
  },
  {
   "cell_type": "code",
   "execution_count": 63,
   "id": "c540023f-0e04-498b-a449-fdd49c3ab28f",
   "metadata": {},
   "outputs": [],
   "source": [
    "def matrixvectormultiplication(U , v):\n",
    "    assert U.shape[1] == v.shape[0]\n",
    "    result = np.zeros(v.shape[0])\n",
    "    for i in range(U.shape[0]):\n",
    "        for j in range(U.shape[1]):\n",
    "            result[i] += + U[i][j] * v[j]\n",
    "    return result\n"
   ]
  },
  {
   "cell_type": "code",
   "execution_count": 64,
   "id": "ed1f101e-9e2d-472d-bd03-810d3b906534",
   "metadata": {},
   "outputs": [
    {
     "data": {
      "text/plain": [
       "array([38., 74., 65.])"
      ]
     },
     "execution_count": 64,
     "metadata": {},
     "output_type": "execute_result"
    }
   ],
   "source": [
    "matrixvectormultiplication(U , x)"
   ]
  },
  {
   "cell_type": "code",
   "execution_count": 65,
   "id": "7641b9ed-b6ca-4284-bb61-b1ad6782f399",
   "metadata": {},
   "outputs": [
    {
     "data": {
      "text/plain": [
       "array([38, 74, 65])"
      ]
     },
     "execution_count": 65,
     "metadata": {},
     "output_type": "execute_result"
    }
   ],
   "source": [
    "U.dot(x)"
   ]
  },
  {
   "cell_type": "code",
   "execution_count": null,
   "id": "5cf51cd4-ac82-4c0a-8ede-8b179fe3a395",
   "metadata": {},
   "outputs": [],
   "source": []
  }
 ],
 "metadata": {
  "kernelspec": {
   "display_name": "Python 3 (ipykernel)",
   "language": "python",
   "name": "python3"
  },
  "language_info": {
   "codemirror_mode": {
    "name": "ipython",
    "version": 3
   },
   "file_extension": ".py",
   "mimetype": "text/x-python",
   "name": "python",
   "nbconvert_exporter": "python",
   "pygments_lexer": "ipython3",
   "version": "3.12.1"
  }
 },
 "nbformat": 4,
 "nbformat_minor": 5
}
